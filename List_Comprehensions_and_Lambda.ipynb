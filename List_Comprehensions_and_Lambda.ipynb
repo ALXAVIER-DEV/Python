{
  "nbformat": 4,
  "nbformat_minor": 0,
  "metadata": {
    "colab": {
      "name": "List_Comprehensions and Lambda",
      "private_outputs": true,
      "provenance": [],
      "authorship_tag": "ABX9TyPVwok2iJfdScj0SgVcCxgd",
      "include_colab_link": true
    },
    "kernelspec": {
      "name": "python3",
      "display_name": "Python 3"
    }
  },
  "cells": [
    {
      "cell_type": "markdown",
      "metadata": {
        "id": "view-in-github",
        "colab_type": "text"
      },
      "source": [
        "<a href=\"https://colab.research.google.com/github/ALXAVIER-DEV/Python/blob/master/List_Comprehensions_and_Lambda.ipynb\" target=\"_parent\"><img src=\"https://colab.research.google.com/assets/colab-badge.svg\" alt=\"Open In Colab\"/></a>"
      ]
    },
    {
      "cell_type": "markdown",
      "metadata": {
        "id": "Rte3fD6Iyhzi"
      },
      "source": [
        "##List Comprehension\n",
        "A utilização de list comprehension em Python é muito comum. List comprehension é a forma que Python utiliza para realizar filtros e mapeamentoss, semelhantes ao que vimos com as funções filter() and map().\n"
      ]
    },
    {
      "cell_type": "code",
      "metadata": {
        "id": "T-Drboy4yQuu"
      },
      "source": [
        "#Definindo um array com a função bilti-in range()\n",
        "array1 = range (0,15)"
      ],
      "execution_count": null,
      "outputs": []
    },
    {
      "cell_type": "code",
      "metadata": {
        "id": "9zIhxl-DzDiO"
      },
      "source": [
        "print(array1)"
      ],
      "execution_count": null,
      "outputs": []
    },
    {
      "cell_type": "code",
      "metadata": {
        "id": "qIFFKQ5vzQLv"
      },
      "source": [
        "type(array1)"
      ],
      "execution_count": null,
      "outputs": []
    },
    {
      "cell_type": "code",
      "metadata": {
        "id": "Y7lGuYuNzR-v"
      },
      "source": [
        "# Aplicando list comprehension\n",
        "[item ** 3 for item in array1]"
      ],
      "execution_count": null,
      "outputs": []
    },
    {
      "cell_type": "code",
      "metadata": {
        "id": "vLUiK7gdziAm"
      },
      "source": [
        "[item for item in array1 if item % 2 == 0]"
      ],
      "execution_count": null,
      "outputs": []
    },
    {
      "cell_type": "code",
      "metadata": {
        "id": "xygwbizpzsIe"
      },
      "source": [
        "[item ** 2 for item in array1 if item % 2 == 0]"
      ],
      "execution_count": null,
      "outputs": []
    },
    {
      "cell_type": "code",
      "metadata": {
        "id": "qjK-1yS_z8rO"
      },
      "source": [
        "#Lista de frases \n",
        "lista_frases = [\"Big Data\",\n",
        "                \"Machinne Learning em Big Data e Algoritmos em Big Data\",\n",
        "                \"Data Science e Big Data\",\n",
        "                \"Big Data e Internet das Coisas\",\n",
        "                \"Big Data está revolucionado o mundo, pois Big Data é um grande volume de dados\"]"
      ],
      "execution_count": null,
      "outputs": []
    },
    {
      "cell_type": "code",
      "metadata": {
        "id": "RnLwsM8_0qcM"
      },
      "source": [
        "[item for item in lista_frases if item.count(\"Big Data\") >= 2]"
      ],
      "execution_count": null,
      "outputs": []
    },
    {
      "cell_type": "code",
      "metadata": {
        "id": "Vgq-d5q21366"
      },
      "source": [
        "[float(item) for item in array1]"
      ],
      "execution_count": null,
      "outputs": []
    },
    {
      "cell_type": "markdown",
      "metadata": {
        "id": "F_iMDCWX6kiQ"
      },
      "source": [
        "##Funcao Lambda\n",
        "Função lambda são funçoes anonimas que nao precisam ser definidas antes de serem usadas. são também chamadas de funções inline e ajudam a mater seu codigo mais organizado"
      ]
    },
    {
      "cell_type": "code",
      "metadata": {
        "id": "d9uBrpJh6i1n"
      },
      "source": [
        "#Definindo um array com a função bultu-in\n",
        "array1 = range(0,15)"
      ],
      "execution_count": null,
      "outputs": []
    },
    {
      "cell_type": "code",
      "metadata": {
        "id": "VHKqtdz67Suz"
      },
      "source": [
        "print(array1)"
      ],
      "execution_count": null,
      "outputs": []
    },
    {
      "cell_type": "code",
      "metadata": {
        "id": "v5x8AhH97YiF"
      },
      "source": [
        "type(array1)"
      ],
      "execution_count": null,
      "outputs": []
    },
    {
      "cell_type": "code",
      "metadata": {
        "id": "H-RsPl5O7bjE"
      },
      "source": [
        "#\"Aplicando list comprehension\"\n",
        "[item ** 2 for item in array1 ]"
      ],
      "execution_count": null,
      "outputs": []
    },
    {
      "cell_type": "code",
      "metadata": {
        "id": "2jMEY3Ui8CkE"
      },
      "source": [
        "#Definindo uma funcao\n",
        "def square(num):\n",
        "  return num ** 2"
      ],
      "execution_count": null,
      "outputs": []
    },
    {
      "cell_type": "code",
      "metadata": {
        "id": "IGkPEU3z8RlC"
      },
      "source": [
        "## Aplicando a função map()\n",
        "list(map(square, array1))"
      ],
      "execution_count": null,
      "outputs": []
    },
    {
      "cell_type": "code",
      "metadata": {
        "id": "Ks_REivp87gL"
      },
      "source": [
        "# Função lambda\n",
        "list(map(lambda num: num ** 2, array1))"
      ],
      "execution_count": null,
      "outputs": []
    },
    {
      "cell_type": "code",
      "metadata": {
        "id": "P-ZUjyZS9MfL"
      },
      "source": [
        "list(map(lambda a: a ** 2, filter(lambda a: a % 2 ==0 , range(1, 20))))"
      ],
      "execution_count": null,
      "outputs": []
    },
    {
      "cell_type": "code",
      "metadata": {
        "id": "4FglfL4Y9kLR"
      },
      "source": [
        ""
      ],
      "execution_count": null,
      "outputs": []
    }
  ]
}