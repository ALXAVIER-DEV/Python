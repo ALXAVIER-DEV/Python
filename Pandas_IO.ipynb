{
  "nbformat": 4,
  "nbformat_minor": 0,
  "metadata": {
    "colab": {
      "name": "Pandas IO.ipynb",
      "provenance": [],
      "private_outputs": true,
      "collapsed_sections": [
        "blu47ISbEbxy",
        "u4Q1UAuaEii3",
        "y6waL5FzI_N0",
        "WMiN4qz7LYHJ",
        "ZI63bvutcrLP",
        "Gp9lb3shmPqR",
        "dW967AJqqPxP",
        "J7JjGw13sLEr",
        "d43TNl_1uziB",
        "OVDBH-PCO4iX",
        "FeoODQz-szfZ"
      ],
      "toc_visible": true,
      "authorship_tag": "ABX9TyOfRpSII5Wj6j5vJgskNsi7",
      "include_colab_link": true
    },
    "kernelspec": {
      "name": "python3",
      "display_name": "Python 3"
    }
  },
  "cells": [
    {
      "cell_type": "markdown",
      "metadata": {
        "id": "view-in-github",
        "colab_type": "text"
      },
      "source": [
        "<a href=\"https://colab.research.google.com/github/ALXAVIER-DEV/Python/blob/master/Pandas_IO.ipynb\" target=\"_parent\"><img src=\"https://colab.research.google.com/assets/colab-badge.svg\" alt=\"Open In Colab\"/></a>"
      ]
    },
    {
      "cell_type": "markdown",
      "metadata": {
        "id": "blu47ISbEbxy",
        "colab_type": "text"
      },
      "source": [
        "# Criando os nomes"
      ]
    },
    {
      "cell_type": "code",
      "metadata": {
        "id": "bS8P6n9k2IdP",
        "colab_type": "code",
        "colab": {}
      },
      "source": [
        "import pandas as pd"
      ],
      "execution_count": null,
      "outputs": []
    },
    {
      "cell_type": "markdown",
      "metadata": {
        "id": "9NrsSJzcEaAh",
        "colab_type": "text"
      },
      "source": [
        " Importando nomes do sexo feminino via json utilizando uma api do IBGE"
      ]
    },
    {
      "cell_type": "code",
      "metadata": {
        "id": "C2mAmYOn3GaG",
        "colab_type": "code",
        "colab": {}
      },
      "source": [
        "Nomes_f =pd.read_json(\"https://servicodados.ibge.gov.br/api/v1/censos/nomes/ranking?qtd=200&sexo=f\")"
      ],
      "execution_count": null,
      "outputs": []
    },
    {
      "cell_type": "markdown",
      "metadata": {
        "id": "J9XcJc60uWSA",
        "colab_type": "text"
      },
      "source": [
        "Importando nomes do sexo masculino  via json utilizando uma api do IBGE"
      ]
    },
    {
      "cell_type": "code",
      "metadata": {
        "id": "lr2HD4kI3NOW",
        "colab_type": "code",
        "colab": {}
      },
      "source": [
        "Nomes_m =pd.read_json(\"https://servicodados.ibge.gov.br/api/v1/censos/nomes/ranking?qtd=200&sexo=m\")"
      ],
      "execution_count": null,
      "outputs": []
    },
    {
      "cell_type": "markdown",
      "metadata": {
        "id": "OdwPv2Gcujpz",
        "colab_type": "text"
      },
      "source": [
        "Criando tabela unica com os nomes e printando a quantidade "
      ]
    },
    {
      "cell_type": "code",
      "metadata": {
        "id": "dqO7rGPh30RA",
        "colab_type": "code",
        "colab": {}
      },
      "source": [
        "print(\"Quantidade de Nomes : \" +  str(len(Nomes_f )+ len(Nomes_m)))"
      ],
      "execution_count": null,
      "outputs": []
    },
    {
      "cell_type": "markdown",
      "metadata": {
        "id": "gcevpzmQu31_",
        "colab_type": "text"
      },
      "source": [
        "Transformmando a lista obtida em DataFrame"
      ]
    },
    {
      "cell_type": "code",
      "metadata": {
        "id": "CkySxKSG4Xor",
        "colab_type": "code",
        "colab": {}
      },
      "source": [
        "frames = [Nomes_f,Nomes_m]"
      ],
      "execution_count": null,
      "outputs": []
    },
    {
      "cell_type": "code",
      "metadata": {
        "id": "VzrYMrM24iip",
        "colab_type": "code",
        "colab": {}
      },
      "source": [
        "nomes = pd.concat(frames)['nome'].to_frame ()"
      ],
      "execution_count": null,
      "outputs": []
    },
    {
      "cell_type": "code",
      "metadata": {
        "id": "9HxQaqdq41mf",
        "colab_type": "code",
        "colab": {}
      },
      "source": [
        "nomes.sample(5)"
      ],
      "execution_count": null,
      "outputs": []
    },
    {
      "cell_type": "markdown",
      "metadata": {
        "id": "u4Q1UAuaEii3",
        "colab_type": "text"
      },
      "source": [
        "# Incluindo ID dos alunos"
      ]
    },
    {
      "cell_type": "code",
      "metadata": {
        "id": "2fQOhJzX5Afl",
        "colab_type": "code",
        "colab": {}
      },
      "source": [
        "#Importando biblioteca numpy\n",
        "import numpy as np\n",
        "np.random.seed(123)"
      ],
      "execution_count": null,
      "outputs": []
    },
    {
      "cell_type": "code",
      "metadata": {
        "id": "-1ySpwrQ6KwL",
        "colab_type": "code",
        "colab": {}
      },
      "source": [
        "# Verificando o total de nomes\n",
        "total_alunos = len(nomes)\n",
        "total_alunos"
      ],
      "execution_count": null,
      "outputs": []
    },
    {
      "cell_type": "code",
      "metadata": {
        "id": "ZGGfCP2qFAkN",
        "colab_type": "code",
        "colab": {}
      },
      "source": [
        "# Criando id de alunos de forma aleatória\n",
        "nomes[\"id_aluno\"] = np.random.permutation(total_alunos) +1"
      ],
      "execution_count": null,
      "outputs": []
    },
    {
      "cell_type": "code",
      "metadata": {
        "id": "NG3teWz0FQeh",
        "colab_type": "code",
        "colab": {}
      },
      "source": [
        "nomes.sample(5)"
      ],
      "execution_count": null,
      "outputs": []
    },
    {
      "cell_type": "code",
      "metadata": {
        "id": "wvsOO28BFT9q",
        "colab_type": "code",
        "colab": {}
      },
      "source": [
        "# Criando dominios para e-mails aleatórios\n",
        "dominios = ['@dominiodoemail.com.br' , '@servicodoemail.com']\n",
        "nomes['dominio'] = np.random.choice(dominios, total_alunos)"
      ],
      "execution_count": null,
      "outputs": []
    },
    {
      "cell_type": "code",
      "metadata": {
        "id": "-tqDkKABGLQs",
        "colab_type": "code",
        "colab": {}
      },
      "source": [
        "# Concatenando os nomes aos dominios criados\n",
        "nomes['email'] = nomes.nome.str.cat(nomes.dominio).str.lower()"
      ],
      "execution_count": null,
      "outputs": []
    },
    {
      "cell_type": "code",
      "metadata": {
        "id": "M_ObuFYeGtfU",
        "colab_type": "code",
        "colab": {}
      },
      "source": [
        "nomes.sample(5)"
      ],
      "execution_count": null,
      "outputs": []
    },
    {
      "cell_type": "markdown",
      "metadata": {
        "id": "y6waL5FzI_N0",
        "colab_type": "text"
      },
      "source": [
        "# Criando a tabela Cursos"
      ]
    },
    {
      "cell_type": "code",
      "metadata": {
        "id": "jEvW-70xGx6n",
        "colab_type": "code",
        "colab": {}
      },
      "source": [
        "# Importando html5 e xml para obter tabela de cursos Alura\n",
        "\n",
        "!pip3 install html5lib\n",
        "!pip3 install lxml"
      ],
      "execution_count": null,
      "outputs": []
    },
    {
      "cell_type": "code",
      "metadata": {
        "id": "h8lv-TvYJtQe",
        "colab_type": "code",
        "colab": {}
      },
      "source": [
        "import html5lib\n",
        "url = 'http://tabela-cursos.herokuapp.com/index.html'\n",
        "cursos = pd.read_html(url)"
      ],
      "execution_count": null,
      "outputs": []
    },
    {
      "cell_type": "code",
      "metadata": {
        "id": "K__v4kCWJ6eq",
        "colab_type": "code",
        "colab": {}
      },
      "source": [
        "# Verificando o tipo de dados cursos = list\n",
        "type(cursos)"
      ],
      "execution_count": null,
      "outputs": []
    },
    {
      "cell_type": "code",
      "metadata": {
        "id": "0gtEsXcHKOHy",
        "colab_type": "code",
        "colab": {}
      },
      "source": [
        "# Transformando uma lista em DataFrame\n",
        "cursos[0]"
      ],
      "execution_count": null,
      "outputs": []
    },
    {
      "cell_type": "code",
      "metadata": {
        "id": "qm0GT4E0KWtH",
        "colab_type": "code",
        "colab": {}
      },
      "source": [
        "cursos = cursos[0]\n"
      ],
      "execution_count": null,
      "outputs": []
    },
    {
      "cell_type": "code",
      "metadata": {
        "id": "hL0OOELmdl5b",
        "colab_type": "code",
        "colab": {}
      },
      "source": [
        "type(cursos)"
      ],
      "execution_count": null,
      "outputs": []
    },
    {
      "cell_type": "code",
      "metadata": {
        "id": "Rx_oI0eZdqr3",
        "colab_type": "code",
        "colab": {}
      },
      "source": [
        "cursos.head()"
      ],
      "execution_count": null,
      "outputs": []
    },
    {
      "cell_type": "markdown",
      "metadata": {
        "id": "WMiN4qz7LYHJ",
        "colab_type": "text"
      },
      "source": [
        "# Alterando o Index de cursos\n"
      ]
    },
    {
      "cell_type": "code",
      "metadata": {
        "id": "2GFdD5QHKbie",
        "colab_type": "code",
        "colab": {}
      },
      "source": [
        "# Renomeando uma Coluna\n",
        "cursos = cursos.rename(columns={'Nome do curso':'Nome_do_curso'})\n"
      ],
      "execution_count": null,
      "outputs": []
    },
    {
      "cell_type": "code",
      "metadata": {
        "id": "pm4IXAtXL2ZT",
        "colab_type": "code",
        "colab": {}
      },
      "source": [
        "cursos.head(2)"
      ],
      "execution_count": null,
      "outputs": []
    },
    {
      "cell_type": "code",
      "metadata": {
        "id": "3Bx7lIu5L8kY",
        "colab_type": "code",
        "colab": {}
      },
      "source": [
        "# Transformando o index em id\n",
        "cursos['id'] = cursos.index + 1"
      ],
      "execution_count": null,
      "outputs": []
    },
    {
      "cell_type": "code",
      "metadata": {
        "id": "EpKG_ttdNmPp",
        "colab_type": "code",
        "colab": {}
      },
      "source": [
        "# Conferindo a Transformação\n",
        "cursos.head(10)"
      ],
      "execution_count": null,
      "outputs": []
    },
    {
      "cell_type": "code",
      "metadata": {
        "id": "0g_Y6tHJNr3I",
        "colab_type": "code",
        "colab": {}
      },
      "source": [
        "# Setando o index como id\n",
        "cursos = cursos.set_index('id')"
      ],
      "execution_count": null,
      "outputs": []
    },
    {
      "cell_type": "code",
      "metadata": {
        "id": "N9SGZmfOPLc8",
        "colab_type": "code",
        "colab": {}
      },
      "source": [
        "cursos.head(5)"
      ],
      "execution_count": null,
      "outputs": []
    },
    {
      "cell_type": "code",
      "metadata": {
        "id": "T6q6d62VPP3j",
        "colab_type": "code",
        "colab": {}
      },
      "source": [
        "nomes.sample(5)"
      ],
      "execution_count": null,
      "outputs": []
    },
    {
      "cell_type": "markdown",
      "metadata": {
        "id": "dxav9JY_aSg1",
        "colab_type": "text"
      },
      "source": [
        "# Matriculando os alunos nos cursos"
      ]
    },
    {
      "cell_type": "markdown",
      "metadata": {
        "id": "iMm7nSpOaPjG",
        "colab_type": "text"
      },
      "source": [
        ""
      ]
    },
    {
      "cell_type": "code",
      "metadata": {
        "id": "cJjYoQu_abgp",
        "colab_type": "code",
        "colab": {}
      },
      "source": [
        "nomes ['matriculas'] = np.ceil(np.random.exponential(size=total_alunos) * 1.5).astype(int)"
      ],
      "execution_count": null,
      "outputs": []
    },
    {
      "cell_type": "code",
      "metadata": {
        "id": "uQYki89yatgt",
        "colab_type": "code",
        "colab": {}
      },
      "source": [
        "nomes.sample(5)"
      ],
      "execution_count": null,
      "outputs": []
    },
    {
      "cell_type": "code",
      "metadata": {
        "id": "8fm7acP9a2iw",
        "colab_type": "code",
        "colab": {}
      },
      "source": [
        "nomes.matriculas.describe()"
      ],
      "execution_count": null,
      "outputs": []
    },
    {
      "cell_type": "code",
      "metadata": {
        "id": "2LqY88N_bl_c",
        "colab_type": "code",
        "colab": {}
      },
      "source": [
        "import seaborn as sns"
      ],
      "execution_count": null,
      "outputs": []
    },
    {
      "cell_type": "code",
      "metadata": {
        "id": "q_Bi8neCbvsQ",
        "colab_type": "code",
        "colab": {}
      },
      "source": [
        "sns.distplot(nomes.matriculas)"
      ],
      "execution_count": null,
      "outputs": []
    },
    {
      "cell_type": "code",
      "metadata": {
        "id": "O576e8KLb-vG",
        "colab_type": "code",
        "colab": {}
      },
      "source": [
        "nomes.matriculas.value_counts()"
      ],
      "execution_count": null,
      "outputs": []
    },
    {
      "cell_type": "code",
      "metadata": {
        "id": "1Z3q8OYacI-2",
        "colab_type": "code",
        "colab": {}
      },
      "source": [
        "nomes.sample(5)"
      ],
      "execution_count": null,
      "outputs": []
    },
    {
      "cell_type": "code",
      "metadata": {
        "id": "XAFQhQXDcdMK",
        "colab_type": "code",
        "colab": {}
      },
      "source": [
        ""
      ],
      "execution_count": null,
      "outputs": []
    },
    {
      "cell_type": "markdown",
      "metadata": {
        "id": "ZI63bvutcrLP",
        "colab_type": "text"
      },
      "source": [
        "# Selecionando Cursos"
      ]
    },
    {
      "cell_type": "code",
      "metadata": {
        "id": "b3AN8HcecxzC",
        "colab_type": "code",
        "colab": {}
      },
      "source": [
        "nomes.sample(3)"
      ],
      "execution_count": null,
      "outputs": []
    },
    {
      "cell_type": "code",
      "metadata": {
        "id": "9x-5eMQDich9",
        "colab_type": "code",
        "colab": {}
      },
      "source": [
        "todas_matriculas = []\n",
        "x = np.random.rand(20)\n",
        "prob = x /sum(x)"
      ],
      "execution_count": null,
      "outputs": []
    },
    {
      "cell_type": "code",
      "metadata": {
        "id": "oHXQQTR6dQob",
        "colab_type": "code",
        "colab": {}
      },
      "source": [
        "for index, row in nomes.iterrows():\n",
        "  id = row.id_aluno\n",
        "  matriculas = row.matriculas\n",
        "  for i in range(matriculas) :\n",
        "    mat = [id, np.random.choice(cursos.index, p = prob)]\n",
        "    todas_matriculas.append(mat)\n",
        "\n",
        "matriculas = pd.DataFrame(todas_matriculas,columns = ['id_aluno','id_curso'] )    "
      ],
      "execution_count": null,
      "outputs": []
    },
    {
      "cell_type": "code",
      "metadata": {
        "id": "6juwQZ_ThNGn",
        "colab_type": "code",
        "colab": {}
      },
      "source": [
        "matriculas.head()"
      ],
      "execution_count": null,
      "outputs": []
    },
    {
      "cell_type": "code",
      "metadata": {
        "id": "hRPtGBgwhSM-",
        "colab_type": "code",
        "colab": {}
      },
      "source": [
        "matriculas.groupby('id_curso').count().join(cursos['Nome_do_curso']).rename(columns={'id_aluno' : 'quantidade_de_alunos'})"
      ],
      "execution_count": null,
      "outputs": []
    },
    {
      "cell_type": "code",
      "metadata": {
        "id": "NNUf2q8ohm0s",
        "colab_type": "code",
        "colab": {}
      },
      "source": [
        "nomes.sample(3)"
      ],
      "execution_count": null,
      "outputs": []
    },
    {
      "cell_type": "code",
      "metadata": {
        "id": "6TYTTg5pk4fg",
        "colab_type": "code",
        "colab": {}
      },
      "source": [
        "cursos.head()"
      ],
      "execution_count": null,
      "outputs": []
    },
    {
      "cell_type": "code",
      "metadata": {
        "id": "qpTIdRGQlUQR",
        "colab_type": "code",
        "colab": {}
      },
      "source": [
        "matriculas.head()"
      ],
      "execution_count": null,
      "outputs": []
    },
    {
      "cell_type": "code",
      "metadata": {
        "id": "DM_m9hKAlX2J",
        "colab_type": "code",
        "colab": {}
      },
      "source": [
        "matriculas_por_curso = matriculas.groupby('id_curso').count().join(cursos['Nome_do_curso']).rename(columns={'id_aluno' : 'quantidade_de_alunos'})"
      ],
      "execution_count": null,
      "outputs": []
    },
    {
      "cell_type": "code",
      "metadata": {
        "id": "fy5k2Gbtlk0E",
        "colab_type": "code",
        "colab": {}
      },
      "source": [
        "matriculas_por_curso.head()"
      ],
      "execution_count": null,
      "outputs": []
    },
    {
      "cell_type": "code",
      "metadata": {
        "id": "x-FYxV6RltG2",
        "colab_type": "code",
        "colab": {}
      },
      "source": [
        ""
      ],
      "execution_count": null,
      "outputs": []
    },
    {
      "cell_type": "markdown",
      "metadata": {
        "id": "xKVj8uEEqMnM",
        "colab_type": "text"
      },
      "source": [
        ""
      ]
    },
    {
      "cell_type": "markdown",
      "metadata": {
        "id": "Gp9lb3shmPqR",
        "colab_type": "text"
      },
      "source": [
        "# Saida em diferentes formatos Exportando para CSV"
      ]
    },
    {
      "cell_type": "code",
      "metadata": {
        "id": "cQo7QqXgmfRT",
        "colab_type": "code",
        "colab": {}
      },
      "source": [
        "matriculas_por_curso.head(20)"
      ],
      "execution_count": null,
      "outputs": []
    },
    {
      "cell_type": "code",
      "metadata": {
        "id": "F_F8huPkmk9-",
        "colab_type": "code",
        "colab": {}
      },
      "source": [
        "matriculas_por_curso.to_csv('matriculas_por_curso.csv' , index = False)"
      ],
      "execution_count": null,
      "outputs": []
    },
    {
      "cell_type": "code",
      "metadata": {
        "id": "rpjtdk15m5W7",
        "colab_type": "code",
        "colab": {}
      },
      "source": [
        "pd.read_csv('/content/matriculas_por_curso.csv')"
      ],
      "execution_count": null,
      "outputs": []
    },
    {
      "cell_type": "code",
      "metadata": {
        "id": "ToNrXzOEnSE3",
        "colab_type": "code",
        "colab": {}
      },
      "source": [
        "pd.read_csv('matriculas_por_curso.csv')"
      ],
      "execution_count": null,
      "outputs": []
    },
    {
      "cell_type": "code",
      "metadata": {
        "id": "amKryCnBnade",
        "colab_type": "code",
        "colab": {}
      },
      "source": [
        "matriculas_json = matriculas_por_curso.to_json()"
      ],
      "execution_count": null,
      "outputs": []
    },
    {
      "cell_type": "code",
      "metadata": {
        "id": "8nNizBmhny1r",
        "colab_type": "code",
        "colab": {}
      },
      "source": [
        "matriculas_json"
      ],
      "execution_count": null,
      "outputs": []
    },
    {
      "cell_type": "code",
      "metadata": {
        "id": "nGa5bCjjn4Ah",
        "colab_type": "code",
        "colab": {}
      },
      "source": [
        "type(matriculas_json)"
      ],
      "execution_count": null,
      "outputs": []
    },
    {
      "cell_type": "code",
      "metadata": {
        "id": "5gj3_wnrn9yI",
        "colab_type": "code",
        "colab": {}
      },
      "source": [
        "matriculas_html = matriculas_por_curso.to_html"
      ],
      "execution_count": null,
      "outputs": []
    },
    {
      "cell_type": "code",
      "metadata": {
        "id": "H0V3LMpioSL-",
        "colab_type": "code",
        "colab": {}
      },
      "source": [
        "print(matriculas_html)"
      ],
      "execution_count": null,
      "outputs": []
    },
    {
      "cell_type": "code",
      "metadata": {
        "id": "Das1MqBNoXg9",
        "colab_type": "code",
        "colab": {}
      },
      "source": [
        "matriculas_html"
      ],
      "execution_count": null,
      "outputs": []
    },
    {
      "cell_type": "code",
      "metadata": {
        "id": "YnD6udxmo-Wo",
        "colab_type": "code",
        "colab": {}
      },
      "source": [
        "print(matriculas_html)"
      ],
      "execution_count": null,
      "outputs": []
    },
    {
      "cell_type": "code",
      "metadata": {
        "id": "jRnnKuFtpPLd",
        "colab_type": "code",
        "colab": {}
      },
      "source": [
        "matriculas"
      ],
      "execution_count": null,
      "outputs": []
    },
    {
      "cell_type": "markdown",
      "metadata": {
        "id": "dW967AJqqPxP",
        "colab_type": "text"
      },
      "source": [
        "# Criando o banco SQL\n"
      ]
    },
    {
      "cell_type": "code",
      "metadata": {
        "id": "mFnJO9E8qVcz",
        "colab_type": "code",
        "colab": {}
      },
      "source": [
        "!pip install sqlalchemy"
      ],
      "execution_count": null,
      "outputs": []
    },
    {
      "cell_type": "code",
      "metadata": {
        "id": "FIn52rOsqb9r",
        "colab_type": "code",
        "colab": {}
      },
      "source": [
        "from sqlalchemy import create_engine, MetaData, Table"
      ],
      "execution_count": null,
      "outputs": []
    },
    {
      "cell_type": "code",
      "metadata": {
        "id": "9f4zhIe-qn-T",
        "colab_type": "code",
        "colab": {}
      },
      "source": [
        "engine = create_engine('sqlite:///:memory:')"
      ],
      "execution_count": null,
      "outputs": []
    },
    {
      "cell_type": "code",
      "metadata": {
        "id": "PsADOkbKmFSY",
        "colab_type": "code",
        "colab": {}
      },
      "source": [
        "engine"
      ],
      "execution_count": null,
      "outputs": []
    },
    {
      "cell_type": "code",
      "metadata": {
        "id": "V_TCHkOiq5N3",
        "colab_type": "code",
        "colab": {}
      },
      "source": [
        "type(engine)"
      ],
      "execution_count": null,
      "outputs": []
    },
    {
      "cell_type": "code",
      "metadata": {
        "id": "bTOaFW2zq_4O",
        "colab_type": "code",
        "colab": {}
      },
      "source": [
        "matriculas_por_curso.head(3)"
      ],
      "execution_count": null,
      "outputs": []
    },
    {
      "cell_type": "code",
      "metadata": {
        "id": "aYHCAPD2njZ5",
        "colab_type": "code",
        "colab": {}
      },
      "source": [
        "matriculas"
      ],
      "execution_count": null,
      "outputs": []
    },
    {
      "cell_type": "code",
      "metadata": {
        "id": "0sSkyySVnktu",
        "colab_type": "code",
        "colab": {}
      },
      "source": [
        "matriculas_por_curso.to_sql('matriculas', engine)"
      ],
      "execution_count": null,
      "outputs": []
    },
    {
      "cell_type": "code",
      "metadata": {
        "id": "zgFbL6yDnkVo",
        "colab_type": "code",
        "colab": {}
      },
      "source": [
        "print(engine.table_names())"
      ],
      "execution_count": null,
      "outputs": []
    },
    {
      "cell_type": "code",
      "metadata": {
        "id": "3XMhaZa9rcf6",
        "colab_type": "code",
        "colab": {}
      },
      "source": [
        "print(engine.table_names)"
      ],
      "execution_count": null,
      "outputs": []
    },
    {
      "cell_type": "markdown",
      "metadata": {
        "id": "J7JjGw13sLEr",
        "colab_type": "text"
      },
      "source": [
        "# Select no Python"
      ]
    },
    {
      "cell_type": "code",
      "metadata": {
        "id": "Vck22erHsSgz",
        "colab_type": "code",
        "colab": {}
      },
      "source": [
        "query = 'select * from matriculas where quantidade_de_alunos < 20'"
      ],
      "execution_count": null,
      "outputs": []
    },
    {
      "cell_type": "code",
      "metadata": {
        "id": "IT4Mw_V1sgvs",
        "colab_type": "code",
        "colab": {}
      },
      "source": [
        "pd.read_sql(query, engine)"
      ],
      "execution_count": null,
      "outputs": []
    },
    {
      "cell_type": "code",
      "metadata": {
        "id": "Jk9kNxaxsn1Y",
        "colab_type": "code",
        "colab": {}
      },
      "source": [
        "pd.read_sql_table('matriculas', engine, columns= ['Nome_do_curso', 'quantidade_de_alunos'])"
      ],
      "execution_count": null,
      "outputs": []
    },
    {
      "cell_type": "code",
      "metadata": {
        "id": "dZSjOn0otGwz",
        "colab_type": "code",
        "colab": {}
      },
      "source": [
        "muitas_matriculas = pd.read_sql_table('matriculas', engine, columns= ['Nome_do_curso', 'quantidade_de_alunos'])"
      ],
      "execution_count": null,
      "outputs": []
    },
    {
      "cell_type": "code",
      "metadata": {
        "id": "x51hC3VstvZQ",
        "colab_type": "code",
        "colab": {}
      },
      "source": [
        "muitas_matriculas"
      ],
      "execution_count": null,
      "outputs": []
    },
    {
      "cell_type": "code",
      "metadata": {
        "id": "nhl7e5sAtwod",
        "colab_type": "code",
        "colab": {}
      },
      "source": [
        "muitas_matriculas.query('quantidade_de_alunos > 60') "
      ],
      "execution_count": null,
      "outputs": []
    },
    {
      "cell_type": "code",
      "metadata": {
        "id": "eWLIb2esuDsq",
        "colab_type": "code",
        "colab": {}
      },
      "source": [
        "muitas_matriculas.query('quantidade_de_alunos < 10')"
      ],
      "execution_count": null,
      "outputs": []
    },
    {
      "cell_type": "markdown",
      "metadata": {
        "id": "d43TNl_1uziB",
        "colab_type": "text"
      },
      "source": [
        "# Escrevendo no Banco"
      ]
    },
    {
      "cell_type": "code",
      "metadata": {
        "id": "ESEoLf-ou4H6",
        "colab_type": "code",
        "colab": {}
      },
      "source": [
        "muitas_matriculas.to_sql('muitas_matriculas', con=engine)"
      ],
      "execution_count": null,
      "outputs": []
    },
    {
      "cell_type": "code",
      "metadata": {
        "id": "FgxCxU9LvFqp",
        "colab_type": "code",
        "colab": {}
      },
      "source": [
        "print(engine.table_names())"
      ],
      "execution_count": null,
      "outputs": []
    },
    {
      "cell_type": "markdown",
      "metadata": {
        "id": "OVDBH-PCO4iX",
        "colab_type": "text"
      },
      "source": [
        "# Nome dos alunos e alunas da próxima turma."
      ]
    },
    {
      "cell_type": "code",
      "metadata": {
        "id": "IFly_W0JO_ax",
        "colab_type": "code",
        "colab": {}
      },
      "source": [
        "matriculas_por_curso.head(20)\n"
      ],
      "execution_count": null,
      "outputs": []
    },
    {
      "cell_type": "code",
      "metadata": {
        "id": "xONajpuAPSkw",
        "colab_type": "code",
        "colab": {}
      },
      "source": [
        "matriculas"
      ],
      "execution_count": null,
      "outputs": []
    },
    {
      "cell_type": "code",
      "metadata": {
        "id": "Bw1sUNHOfa2s",
        "colab_type": "code",
        "colab": {}
      },
      "source": [
        "id_curso = 16"
      ],
      "execution_count": null,
      "outputs": []
    },
    {
      "cell_type": "code",
      "metadata": {
        "id": "GRP2k0Fkfiai",
        "colab_type": "code",
        "colab": {}
      },
      "source": [
        "proxima_turma = matriculas.query(\"id_curso == {}\" . format(id_curso))\n",
        "proxima_turma"
      ],
      "execution_count": null,
      "outputs": []
    },
    {
      "cell_type": "code",
      "metadata": {
        "id": "gU05hxYdf-Ie",
        "colab_type": "code",
        "colab": {}
      },
      "source": [
        "nomes.sample(3)"
      ],
      "execution_count": null,
      "outputs": []
    },
    {
      "cell_type": "code",
      "metadata": {
        "id": "CZlupSqrgAx-",
        "colab_type": "code",
        "colab": {}
      },
      "source": [
        "nomes.sample(5)"
      ],
      "execution_count": null,
      "outputs": []
    },
    {
      "cell_type": "code",
      "metadata": {
        "id": "NlHSUl8NgMPk",
        "colab_type": "code",
        "colab": {}
      },
      "source": [
        "proxima_turma.set_index('id_aluno').join(nomes.set_index('id_aluno'))"
      ],
      "execution_count": null,
      "outputs": []
    },
    {
      "cell_type": "code",
      "metadata": {
        "id": "oBgcAxNdgo77",
        "colab_type": "code",
        "colab": {}
      },
      "source": [
        "proxima_turma.set_index('id_aluno').join(nomes.set_index('id_aluno'))['nome']"
      ],
      "execution_count": null,
      "outputs": []
    },
    {
      "cell_type": "code",
      "metadata": {
        "id": "VeqeioZLjDRQ",
        "colab_type": "code",
        "colab": {}
      },
      "source": [
        "proxima_turma.set_index('id_aluno').join(nomes.set_index('id_aluno'))['nome'].to_frame()"
      ],
      "execution_count": null,
      "outputs": []
    },
    {
      "cell_type": "code",
      "metadata": {
        "id": "JFWoDTgWjVyR",
        "colab_type": "code",
        "colab": {}
      },
      "source": [
        "nome_curso = cursos.loc[id_curso]"
      ],
      "execution_count": null,
      "outputs": []
    },
    {
      "cell_type": "code",
      "metadata": {
        "id": "p07uCymEjyMc",
        "colab_type": "code",
        "colab": {}
      },
      "source": [
        "nome_curso"
      ],
      "execution_count": null,
      "outputs": []
    },
    {
      "cell_type": "code",
      "metadata": {
        "id": "6k9gUjsYj1bU",
        "colab_type": "code",
        "colab": {}
      },
      "source": [
        "nome_curso = nome_curso.Nome_do_curso"
      ],
      "execution_count": null,
      "outputs": []
    },
    {
      "cell_type": "code",
      "metadata": {
        "id": "dMIrBKNYkDSQ",
        "colab_type": "code",
        "colab": {}
      },
      "source": [
        "nome_curso"
      ],
      "execution_count": null,
      "outputs": []
    },
    {
      "cell_type": "code",
      "metadata": {
        "id": "A1dQ2qfikoCE",
        "colab_type": "code",
        "colab": {}
      },
      "source": [
        "proxima_turma = proxima_turma.set_index('id_aluno').join(nomes.set_index('id_aluno'))['nome'].to_frame()"
      ],
      "execution_count": null,
      "outputs": []
    },
    {
      "cell_type": "code",
      "metadata": {
        "id": "8yew8jv1lG6M",
        "colab_type": "code",
        "colab": {}
      },
      "source": [
        "proxima_turma"
      ],
      "execution_count": null,
      "outputs": []
    },
    {
      "cell_type": "code",
      "metadata": {
        "id": "SRH3r5DulIlp",
        "colab_type": "code",
        "colab": {}
      },
      "source": [
        "proxima_turma.rename(columns={'nome': 'Alunos do Curso de {}'.format(nome_curso)})"
      ],
      "execution_count": null,
      "outputs": []
    },
    {
      "cell_type": "code",
      "metadata": {
        "id": "PFuoTtyll4F4",
        "colab_type": "code",
        "colab": {}
      },
      "source": [
        "proxima_turma = proxima_turma.rename(columns={'nome': 'Alunos do Curso de {}'.format(nome_curso)})"
      ],
      "execution_count": null,
      "outputs": []
    },
    {
      "cell_type": "code",
      "metadata": {
        "id": "rxmo8wTmmCe_",
        "colab_type": "code",
        "colab": {}
      },
      "source": [
        "proxima_turma.head()"
      ],
      "execution_count": null,
      "outputs": []
    },
    {
      "cell_type": "markdown",
      "metadata": {
        "id": "FeoODQz-szfZ",
        "colab_type": "text"
      },
      "source": [
        "# Exportando para Excel\n"
      ]
    },
    {
      "cell_type": "code",
      "metadata": {
        "id": "XFtzFtLytERj",
        "colab_type": "code",
        "colab": {}
      },
      "source": [
        "proxima_turma.to_excel('proxima_turma.xlsx', index= False)"
      ],
      "execution_count": null,
      "outputs": []
    },
    {
      "cell_type": "code",
      "metadata": {
        "id": "sVdurVLvtSON",
        "colab_type": "code",
        "colab": {}
      },
      "source": [
        "pd.read_excel('proxima_turma.xlsx')"
      ],
      "execution_count": null,
      "outputs": []
    },
    {
      "cell_type": "code",
      "metadata": {
        "id": "F3rz6alktp59",
        "colab_type": "code",
        "colab": {}
      },
      "source": [
        ""
      ],
      "execution_count": null,
      "outputs": []
    }
  ]
}