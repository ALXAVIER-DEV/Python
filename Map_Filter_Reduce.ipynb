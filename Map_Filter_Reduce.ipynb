{
  "nbformat": 4,
  "nbformat_minor": 0,
  "metadata": {
    "colab": {
      "name": "Map-Filter_Reduce",
      "private_outputs": true,
      "provenance": [],
      "authorship_tag": "ABX9TyOSIZH4NglP3EzbwcG+SyZK",
      "include_colab_link": true
    },
    "kernelspec": {
      "name": "python3",
      "display_name": "Python 3"
    }
  },
  "cells": [
    {
      "cell_type": "markdown",
      "metadata": {
        "id": "view-in-github",
        "colab_type": "text"
      },
      "source": [
        "<a href=\"https://colab.research.google.com/github/ALXAVIER-DEV/Python/blob/master/Map_Filter_Reduce.ipynb\" target=\"_parent\"><img src=\"https://colab.research.google.com/assets/colab-badge.svg\" alt=\"Open In Colab\"/></a>"
      ]
    },
    {
      "cell_type": "code",
      "metadata": {
        "id": "546bFY1slKY_"
      },
      "source": [
        "# Definindo um array com a função built-in range()\n",
        "array1 = range(0,15)"
      ],
      "execution_count": null,
      "outputs": []
    },
    {
      "cell_type": "code",
      "metadata": {
        "id": "GD-tKSwMlcwg"
      },
      "source": [
        "print(array1)\n",
        "type(array1)"
      ],
      "execution_count": null,
      "outputs": []
    },
    {
      "cell_type": "code",
      "metadata": {
        "id": "yPbUogpclj5P"
      },
      "source": [
        "#Criando uma função para calcular o cubo de um número\n",
        "\n",
        "def calc_cubo(num):\n",
        "  return num ** 3"
      ],
      "execution_count": null,
      "outputs": []
    },
    {
      "cell_type": "code",
      "metadata": {
        "id": "5f0hRmTpl1Qu"
      },
      "source": [
        "for elemento in array1:\n",
        "  print(calc_cubo(elemento))"
      ],
      "execution_count": null,
      "outputs": []
    },
    {
      "cell_type": "code",
      "metadata": {
        "id": "aSYWwgsmmDmA"
      },
      "source": [
        "# Com a função map() aplicamos uma função a um conjunto de de elementos\n",
        "lista_map_func = map(calc_cubo, array1)"
      ],
      "execution_count": null,
      "outputs": []
    },
    {
      "cell_type": "code",
      "metadata": {
        "id": "cGUuW6fLmW-Y"
      },
      "source": [
        "print(lista_map_func)"
      ],
      "execution_count": null,
      "outputs": []
    },
    {
      "cell_type": "code",
      "metadata": {
        "id": "s5d__4E4matn"
      },
      "source": [
        "print(list(lista_map_func))"
      ],
      "execution_count": null,
      "outputs": []
    },
    {
      "cell_type": "code",
      "metadata": {
        "id": "NWT7gCOemhKH"
      },
      "source": [
        "lista_map_func_2 = map(float, range(20))"
      ],
      "execution_count": null,
      "outputs": []
    },
    {
      "cell_type": "code",
      "metadata": {
        "id": "OiKilidemrFB"
      },
      "source": [
        "lista_map_func_2"
      ],
      "execution_count": null,
      "outputs": []
    },
    {
      "cell_type": "code",
      "metadata": {
        "id": "gHabJeZ4nV-Y"
      },
      "source": [
        "print(list(lista_map_func_2))"
      ],
      "execution_count": null,
      "outputs": []
    },
    {
      "cell_type": "code",
      "metadata": {
        "id": "X5b1vkHnnZS_"
      },
      "source": [
        "from math import sqrt"
      ],
      "execution_count": null,
      "outputs": []
    },
    {
      "cell_type": "code",
      "metadata": {
        "id": "JIZszPs5nf1P"
      },
      "source": [
        "array2 = list(array1)"
      ],
      "execution_count": null,
      "outputs": []
    },
    {
      "cell_type": "code",
      "metadata": {
        "id": "WH7QviVFnolA"
      },
      "source": [
        "array2"
      ],
      "execution_count": null,
      "outputs": []
    },
    {
      "cell_type": "code",
      "metadata": {
        "id": "l2Eat_09nqnh"
      },
      "source": [
        "print(list(map(sqrt, array2[0:5])))"
      ],
      "execution_count": null,
      "outputs": []
    },
    {
      "cell_type": "markdown",
      "metadata": {
        "id": "rDNpUGdroBjL"
      },
      "source": [
        "##Filter\n",
        "A função filter()permite filtrar elementos de uma lista. aplicamosuma função que retorna valores boleanaos (True ou False). Retornamos os valores onde a expressão é True e filtramos os valores onde a expressão é False."
      ]
    },
    {
      "cell_type": "code",
      "metadata": {
        "id": "-3lh71T3n5NY"
      },
      "source": [
        "#Definindo um array com a dunção bulti-in range()\n",
        "array1 = range(0,15)"
      ],
      "execution_count": null,
      "outputs": []
    },
    {
      "cell_type": "code",
      "metadata": {
        "id": "jy-zUxPOoybY"
      },
      "source": [
        "print(array1)"
      ],
      "execution_count": null,
      "outputs": []
    },
    {
      "cell_type": "code",
      "metadata": {
        "id": "3il6-2hso1Z5"
      },
      "source": [
        "type(array1)"
      ],
      "execution_count": null,
      "outputs": []
    },
    {
      "cell_type": "code",
      "metadata": {
        "id": "fN7TIfh_o4OZ"
      },
      "source": [
        "#Criando uma função para identificar se um numero é par\n",
        "def verifica_Par(num):\n",
        "  return num % 2 == 0"
      ],
      "execution_count": null,
      "outputs": []
    },
    {
      "cell_type": "code",
      "metadata": {
        "id": "4hgXx4e3pO2U"
      },
      "source": [
        "verifica_Par(300)\n",
        "verifica_Par(111)"
      ],
      "execution_count": null,
      "outputs": []
    },
    {
      "cell_type": "code",
      "metadata": {
        "id": "8l8tFgUjpQk6"
      },
      "source": [
        "#Com a função map() aplicamos uma função a um conjunto de elementos \n",
        "\n",
        "list(map(verifica_Par,array1))"
      ],
      "execution_count": null,
      "outputs": []
    },
    {
      "cell_type": "code",
      "metadata": {
        "id": "bS9ZMyc7pfw6"
      },
      "source": [
        "# A função filter() retorna apenas os valores onde a expressão é igual a True,\n",
        "# filtrando os valores onde a expressão retorna False\n",
        "list(filter(verifica_Par, array1))"
      ],
      "execution_count": null,
      "outputs": []
    },
    {
      "cell_type": "code",
      "metadata": {
        "id": "MLIBmcTyp1MG"
      },
      "source": [
        "# Lista de frases \n",
        "lista_frases = [\"Big Data\",\n",
        "               \"Data Science e Big Data\",\n",
        "               \"Machine Learning em Big Data e Algoritmos em Big Data\"\n",
        "               \"Big Data e Internet das Coisas\",\n",
        "               \"Big Data está revolucionando o mundo, pois Big Data é um grande volume de dados\"]"
      ],
      "execution_count": null,
      "outputs": []
    },
    {
      "cell_type": "code",
      "metadata": {
        "id": "wAKOQxcGut3z"
      },
      "source": [
        "# Crindo a Função\n",
        "def testa_Big_Data(frases):\n",
        "  return frases.count(\"Big Data\") >= 2"
      ],
      "execution_count": null,
      "outputs": []
    },
    {
      "cell_type": "code",
      "metadata": {
        "id": "Ut0Oc3hXvNs-"
      },
      "source": [
        "#Aplicando a função filter()\n",
        "list(filter(testa_Big_Data, lista_frases))"
      ],
      "execution_count": null,
      "outputs": []
    },
    {
      "cell_type": "code",
      "metadata": {
        "id": "p6YsefABvXmt"
      },
      "source": [
        "# Aplicando a função map()\n",
        "list(map(testa_Big_Data, lista_frases))"
      ],
      "execution_count": null,
      "outputs": []
    },
    {
      "cell_type": "markdown",
      "metadata": {
        "id": "Uf3lE1hywkJ2"
      },
      "source": [
        "## Reduce\n",
        "A função reduce() aplica uma função a uma sequência de elementos, até reduzir a sequencia a um único elemento.\n",
        " "
      ]
    },
    {
      "cell_type": "code",
      "metadata": {
        "id": "c09nU4nrwa4m"
      },
      "source": [
        "from functools import reduce"
      ],
      "execution_count": null,
      "outputs": []
    },
    {
      "cell_type": "code",
      "metadata": {
        "id": "mGdZj_D7w88y"
      },
      "source": [
        "soma = reduce((lambda x, y: x + y), [1,2,3,4])"
      ],
      "execution_count": null,
      "outputs": []
    },
    {
      "cell_type": "code",
      "metadata": {
        "id": "xCXRcm3lxKJq"
      },
      "source": [
        "soma"
      ],
      "execution_count": null,
      "outputs": []
    },
    {
      "cell_type": "code",
      "metadata": {
        "id": "WdOpV7uDxvR0"
      },
      "source": [
        ""
      ],
      "execution_count": null,
      "outputs": []
    }
  ]
}