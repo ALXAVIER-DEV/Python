{
  "nbformat": 4,
  "nbformat_minor": 0,
  "metadata": {
    "colab": {
      "name": "Pandas IO.ipynb",
      "provenance": [],
      "private_outputs": true,
      "collapsed_sections": [
        "blu47ISbEbxy",
        "u4Q1UAuaEii3",
        "WMiN4qz7LYHJ",
        "dxav9JY_aSg1"
      ],
      "authorship_tag": "ABX9TyPSnPnuSP77vI0ea0n0B0Mf",
      "include_colab_link": true
    },
    "kernelspec": {
      "name": "python3",
      "display_name": "Python 3"
    }
  },
  "cells": [
    {
      "cell_type": "markdown",
      "metadata": {
        "id": "view-in-github",
        "colab_type": "text"
      },
      "source": [
        "<a href=\"https://colab.research.google.com/github/ALXAVIER-DEV/Python/blob/master/Pandas_IO.ipynb\" target=\"_parent\"><img src=\"https://colab.research.google.com/assets/colab-badge.svg\" alt=\"Open In Colab\"/></a>"
      ]
    },
    {
      "cell_type": "markdown",
      "metadata": {
        "id": "blu47ISbEbxy",
        "colab_type": "text"
      },
      "source": [
        "# Criando os nomes"
      ]
    },
    {
      "cell_type": "code",
      "metadata": {
        "id": "bS8P6n9k2IdP",
        "colab_type": "code",
        "colab": {}
      },
      "source": [
        "\n",
        "import pandas as pd"
      ],
      "execution_count": null,
      "outputs": []
    },
    {
      "cell_type": "markdown",
      "metadata": {
        "id": "9NrsSJzcEaAh",
        "colab_type": "text"
      },
      "source": [
        ""
      ]
    },
    {
      "cell_type": "code",
      "metadata": {
        "id": "C2mAmYOn3GaG",
        "colab_type": "code",
        "colab": {}
      },
      "source": [
        "Nomes_f =pd.read_json(\"https://servicodados.ibge.gov.br/api/v1/censos/nomes/ranking?qtd=200&sexo=f\")"
      ],
      "execution_count": null,
      "outputs": []
    },
    {
      "cell_type": "code",
      "metadata": {
        "id": "lr2HD4kI3NOW",
        "colab_type": "code",
        "colab": {}
      },
      "source": [
        "Nomes_m =pd.read_json(\"https://servicodados.ibge.gov.br/api/v1/censos/nomes/ranking?qtd=200&sexo=m\")"
      ],
      "execution_count": null,
      "outputs": []
    },
    {
      "cell_type": "code",
      "metadata": {
        "id": "dqO7rGPh30RA",
        "colab_type": "code",
        "colab": {}
      },
      "source": [
        "print(\"Quantidade de Nomes : \" +  str(len(Nomes_f )+ len(Nomes_m)))"
      ],
      "execution_count": null,
      "outputs": []
    },
    {
      "cell_type": "code",
      "metadata": {
        "id": "CkySxKSG4Xor",
        "colab_type": "code",
        "colab": {}
      },
      "source": [
        "frames = [Nomes_f,Nomes_m]"
      ],
      "execution_count": null,
      "outputs": []
    },
    {
      "cell_type": "code",
      "metadata": {
        "id": "VzrYMrM24iip",
        "colab_type": "code",
        "colab": {}
      },
      "source": [
        "nomes = pd.concat(frames)['nome'].to_frame ()"
      ],
      "execution_count": null,
      "outputs": []
    },
    {
      "cell_type": "code",
      "metadata": {
        "id": "9HxQaqdq41mf",
        "colab_type": "code",
        "colab": {}
      },
      "source": [
        "nomes.sample(5)"
      ],
      "execution_count": null,
      "outputs": []
    },
    {
      "cell_type": "markdown",
      "metadata": {
        "id": "u4Q1UAuaEii3",
        "colab_type": "text"
      },
      "source": [
        "# Incluindo ID dos alunos"
      ]
    },
    {
      "cell_type": "code",
      "metadata": {
        "id": "2fQOhJzX5Afl",
        "colab_type": "code",
        "colab": {}
      },
      "source": [
        "import numpy as np\n",
        "np.random.seed(123)"
      ],
      "execution_count": null,
      "outputs": []
    },
    {
      "cell_type": "code",
      "metadata": {
        "id": "-1ySpwrQ6KwL",
        "colab_type": "code",
        "colab": {}
      },
      "source": [
        "total_alunos = len(nomes)\n",
        "total_alunos"
      ],
      "execution_count": null,
      "outputs": []
    },
    {
      "cell_type": "code",
      "metadata": {
        "id": "ZGGfCP2qFAkN",
        "colab_type": "code",
        "colab": {}
      },
      "source": [
        "nomes[\"id_aluno\"] = np.random.permutation(total_alunos) +1"
      ],
      "execution_count": null,
      "outputs": []
    },
    {
      "cell_type": "code",
      "metadata": {
        "id": "NG3teWz0FQeh",
        "colab_type": "code",
        "colab": {}
      },
      "source": [
        "nomes.sample(5)"
      ],
      "execution_count": null,
      "outputs": []
    },
    {
      "cell_type": "code",
      "metadata": {
        "id": "wvsOO28BFT9q",
        "colab_type": "code",
        "colab": {}
      },
      "source": [
        "dominios = ['@dominiodoemail.com.br' , '@servicodoemail.com']\n",
        "nomes['dominio'] = np.random.choice(dominios, total_alunos)"
      ],
      "execution_count": null,
      "outputs": []
    },
    {
      "cell_type": "code",
      "metadata": {
        "id": "-tqDkKABGLQs",
        "colab_type": "code",
        "colab": {}
      },
      "source": [
        "nomes['email'] = nomes.nome.str.cat(nomes.dominio).str.lower()"
      ],
      "execution_count": null,
      "outputs": []
    },
    {
      "cell_type": "code",
      "metadata": {
        "id": "M_ObuFYeGtfU",
        "colab_type": "code",
        "colab": {}
      },
      "source": [
        "nomes.sample(5)"
      ],
      "execution_count": null,
      "outputs": []
    },
    {
      "cell_type": "markdown",
      "metadata": {
        "id": "y6waL5FzI_N0",
        "colab_type": "text"
      },
      "source": [
        "# Criando a tabela Cursos"
      ]
    },
    {
      "cell_type": "code",
      "metadata": {
        "id": "jEvW-70xGx6n",
        "colab_type": "code",
        "colab": {}
      },
      "source": [
        "!pip3 install html5lib\n",
        "!pip3 install lxml"
      ],
      "execution_count": null,
      "outputs": []
    },
    {
      "cell_type": "code",
      "metadata": {
        "id": "h8lv-TvYJtQe",
        "colab_type": "code",
        "colab": {}
      },
      "source": [
        "import html5lib\n",
        "url = 'http://tabela-cursos.herokuapp.com/index.html'\n",
        "cursos = pd.read_html(url)"
      ],
      "execution_count": null,
      "outputs": []
    },
    {
      "cell_type": "code",
      "metadata": {
        "id": "K__v4kCWJ6eq",
        "colab_type": "code",
        "colab": {}
      },
      "source": [
        "type(cursos)"
      ],
      "execution_count": null,
      "outputs": []
    },
    {
      "cell_type": "code",
      "metadata": {
        "id": "0gtEsXcHKOHy",
        "colab_type": "code",
        "colab": {}
      },
      "source": [
        "cursos.head(3)\n"
      ],
      "execution_count": null,
      "outputs": []
    },
    {
      "cell_type": "code",
      "metadata": {
        "id": "qm0GT4E0KWtH",
        "colab_type": "code",
        "colab": {}
      },
      "source": [
        "cursos.head(5)"
      ],
      "execution_count": null,
      "outputs": []
    },
    {
      "cell_type": "markdown",
      "metadata": {
        "id": "WMiN4qz7LYHJ",
        "colab_type": "text"
      },
      "source": [
        "# Alterando o Index de cursos\n"
      ]
    },
    {
      "cell_type": "code",
      "metadata": {
        "id": "2GFdD5QHKbie",
        "colab_type": "code",
        "colab": {}
      },
      "source": [
        "cursos = cursos.rename(columns={'Nome do curso':'Nome_do_curso'})\n"
      ],
      "execution_count": null,
      "outputs": []
    },
    {
      "cell_type": "markdown",
      "metadata": {
        "id": "n5G-xBMfLRzi",
        "colab_type": "text"
      },
      "source": [
        ""
      ]
    },
    {
      "cell_type": "code",
      "metadata": {
        "id": "pm4IXAtXL2ZT",
        "colab_type": "code",
        "colab": {}
      },
      "source": [
        "cursos.head(2)"
      ],
      "execution_count": null,
      "outputs": []
    },
    {
      "cell_type": "code",
      "metadata": {
        "id": "3Bx7lIu5L8kY",
        "colab_type": "code",
        "colab": {}
      },
      "source": [
        "cursos['id'] = cursos.index + 1"
      ],
      "execution_count": null,
      "outputs": []
    },
    {
      "cell_type": "code",
      "metadata": {
        "id": "EpKG_ttdNmPp",
        "colab_type": "code",
        "colab": {}
      },
      "source": [
        "cursos.head(10)"
      ],
      "execution_count": null,
      "outputs": []
    },
    {
      "cell_type": "code",
      "metadata": {
        "id": "0g_Y6tHJNr3I",
        "colab_type": "code",
        "colab": {}
      },
      "source": [
        "cursos = cursos.set_index('id')"
      ],
      "execution_count": null,
      "outputs": []
    },
    {
      "cell_type": "code",
      "metadata": {
        "id": "N9SGZmfOPLc8",
        "colab_type": "code",
        "colab": {}
      },
      "source": [
        "cursos.head(5)"
      ],
      "execution_count": null,
      "outputs": []
    },
    {
      "cell_type": "code",
      "metadata": {
        "id": "T6q6d62VPP3j",
        "colab_type": "code",
        "colab": {}
      },
      "source": [
        "nomes.sample(5)"
      ],
      "execution_count": null,
      "outputs": []
    },
    {
      "cell_type": "code",
      "metadata": {
        "id": "dMrOKv0AaL1G",
        "colab_type": "code",
        "colab": {}
      },
      "source": [
        ""
      ],
      "execution_count": null,
      "outputs": []
    },
    {
      "cell_type": "markdown",
      "metadata": {
        "id": "dxav9JY_aSg1",
        "colab_type": "text"
      },
      "source": [
        "# Matriculando os alunos nos cursos"
      ]
    },
    {
      "cell_type": "markdown",
      "metadata": {
        "id": "iMm7nSpOaPjG",
        "colab_type": "text"
      },
      "source": [
        ""
      ]
    },
    {
      "cell_type": "code",
      "metadata": {
        "id": "cJjYoQu_abgp",
        "colab_type": "code",
        "colab": {}
      },
      "source": [
        "nomes ['matriculas'] = np.ceil(np.random.exponential(size=total_alunos) * 1.5).astype(int)"
      ],
      "execution_count": null,
      "outputs": []
    },
    {
      "cell_type": "code",
      "metadata": {
        "id": "uQYki89yatgt",
        "colab_type": "code",
        "colab": {}
      },
      "source": [
        "nomes.sample(5)"
      ],
      "execution_count": null,
      "outputs": []
    },
    {
      "cell_type": "code",
      "metadata": {
        "id": "8fm7acP9a2iw",
        "colab_type": "code",
        "colab": {}
      },
      "source": [
        "nomes.matriculas.describe()"
      ],
      "execution_count": null,
      "outputs": []
    },
    {
      "cell_type": "code",
      "metadata": {
        "id": "2LqY88N_bl_c",
        "colab_type": "code",
        "colab": {}
      },
      "source": [
        "import seaborn as sns"
      ],
      "execution_count": null,
      "outputs": []
    },
    {
      "cell_type": "code",
      "metadata": {
        "id": "q_Bi8neCbvsQ",
        "colab_type": "code",
        "colab": {}
      },
      "source": [
        "sns.distplot(nomes.matriculas)"
      ],
      "execution_count": null,
      "outputs": []
    },
    {
      "cell_type": "code",
      "metadata": {
        "id": "O576e8KLb-vG",
        "colab_type": "code",
        "colab": {}
      },
      "source": [
        "nomes.matriculas.value_counts()"
      ],
      "execution_count": null,
      "outputs": []
    },
    {
      "cell_type": "code",
      "metadata": {
        "id": "1Z3q8OYacI-2",
        "colab_type": "code",
        "colab": {}
      },
      "source": [
        "nomes.sample(5)"
      ],
      "execution_count": null,
      "outputs": []
    },
    {
      "cell_type": "code",
      "metadata": {
        "id": "XAFQhQXDcdMK",
        "colab_type": "code",
        "colab": {}
      },
      "source": [
        ""
      ],
      "execution_count": null,
      "outputs": []
    },
    {
      "cell_type": "markdown",
      "metadata": {
        "id": "ZI63bvutcrLP",
        "colab_type": "text"
      },
      "source": [
        "# Selecionando Cursos"
      ]
    },
    {
      "cell_type": "code",
      "metadata": {
        "id": "b3AN8HcecxzC",
        "colab_type": "code",
        "colab": {}
      },
      "source": [
        "nomes.sample(3)"
      ],
      "execution_count": null,
      "outputs": []
    },
    {
      "cell_type": "code",
      "metadata": {
        "id": "aWd6Brc_c50n",
        "colab_type": "code",
        "colab": {}
      },
      "source": [
        "todas_matriculas = []\n",
        "x = np.random.rand(20)\n",
        "prob = x  /sum(x)"
      ],
      "execution_count": null,
      "outputs": []
    },
    {
      "cell_type": "code",
      "metadata": {
        "id": "oHXQQTR6dQob",
        "colab_type": "code",
        "colab": {}
      },
      "source": [
        "for index, row in nomes.iterrows():\n",
        "  id = row.id_aluno\n",
        "  matriculas = row.matriculas\n",
        "  for i in range(matriculas) :\n",
        "    mat = [id, np.random.choice(cursos.index, p = prob)]\n",
        "    todas_matriculas.append(mat)\n",
        "\n",
        "matriculas = pd.DataFrame(todas_matriculas,columns= {'id_aluno','id_curso'} )    "
      ],
      "execution_count": null,
      "outputs": []
    },
    {
      "cell_type": "code",
      "metadata": {
        "id": "6juwQZ_ThNGn",
        "colab_type": "code",
        "colab": {}
      },
      "source": [
        "matriculas.head()"
      ],
      "execution_count": null,
      "outputs": []
    },
    {
      "cell_type": "code",
      "metadata": {
        "id": "hRPtGBgwhSM-",
        "colab_type": "code",
        "colab": {}
      },
      "source": [
        "matriculas.groupby('id_curso').count().join(cursos['Nome_do_curso']).rename(columns={'id_aluno' : 'quantidade_de_alunos'})"
      ],
      "execution_count": null,
      "outputs": []
    },
    {
      "cell_type": "code",
      "metadata": {
        "id": "NNUf2q8ohm0s",
        "colab_type": "code",
        "colab": {}
      },
      "source": [
        "nomes.sample(3)"
      ],
      "execution_count": null,
      "outputs": []
    },
    {
      "cell_type": "code",
      "metadata": {
        "id": "6TYTTg5pk4fg",
        "colab_type": "code",
        "colab": {}
      },
      "source": [
        "cursos.head()"
      ],
      "execution_count": null,
      "outputs": []
    },
    {
      "cell_type": "code",
      "metadata": {
        "id": "qpTIdRGQlUQR",
        "colab_type": "code",
        "colab": {}
      },
      "source": [
        "matriculas.head()"
      ],
      "execution_count": null,
      "outputs": []
    },
    {
      "cell_type": "code",
      "metadata": {
        "id": "DM_m9hKAlX2J",
        "colab_type": "code",
        "colab": {}
      },
      "source": [
        "matriculas_por_curso = matriculas.groupby('id_curso').count().join(cursos['Nome_do_curso']).rename(columns={'id_aluno' : 'quantidade_de_alunos'})"
      ],
      "execution_count": null,
      "outputs": []
    },
    {
      "cell_type": "code",
      "metadata": {
        "id": "fy5k2Gbtlk0E",
        "colab_type": "code",
        "colab": {}
      },
      "source": [
        "matriculas_por_curso.head()"
      ],
      "execution_count": null,
      "outputs": []
    },
    {
      "cell_type": "code",
      "metadata": {
        "id": "x-FYxV6RltG2",
        "colab_type": "code",
        "colab": {}
      },
      "source": [
        ""
      ],
      "execution_count": null,
      "outputs": []
    }
  ]
}