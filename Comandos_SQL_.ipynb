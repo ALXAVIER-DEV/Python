{
  "nbformat": 4,
  "nbformat_minor": 0,
  "metadata": {
    "colab": {
      "name": "Comandos SQL .ipynb",
      "provenance": [],
      "private_outputs": true,
      "authorship_tag": "ABX9TyN8o3y0ymVgN4Veb5RklX1V",
      "include_colab_link": true
    },
    "kernelspec": {
      "name": "python3",
      "display_name": "Python 3"
    }
  },
  "cells": [
    {
      "cell_type": "markdown",
      "metadata": {
        "id": "view-in-github",
        "colab_type": "text"
      },
      "source": [
        "<a href=\"https://colab.research.google.com/github/ALXAVIER-DEV/Python/blob/master/Comandos_SQL_.ipynb\" target=\"_parent\"><img src=\"https://colab.research.google.com/assets/colab-badge.svg\" alt=\"Open In Colab\"/></a>"
      ]
    },
    {
      "cell_type": "code",
      "metadata": {
        "id": "HmWWTtGneHvJ"
      },
      "source": [
        "import pandas as pd\n",
        "import numpy as np  "
      ],
      "execution_count": null,
      "outputs": []
    },
    {
      "cell_type": "code",
      "metadata": {
        "id": "75D-GFJxeTCq"
      },
      "source": [
        "url = ('https://raw.github.com/pandas-dev/pandas/master/pandas/tests/io/data/csv/tips.csv')"
      ],
      "execution_count": null,
      "outputs": []
    },
    {
      "cell_type": "code",
      "metadata": {
        "id": "iQlIMxWseo62"
      },
      "source": [
        "tips = pd.read_csv(url)"
      ],
      "execution_count": null,
      "outputs": []
    },
    {
      "cell_type": "code",
      "metadata": {
        "id": "p8c1WFU9ewjP"
      },
      "source": [
        "tips.head()"
      ],
      "execution_count": null,
      "outputs": []
    },
    {
      "cell_type": "markdown",
      "metadata": {
        "id": "cJ9FZEDTd15N"
      },
      "source": [
        "## 1º COMANDO SELECT"
      ]
    },
    {
      "cell_type": "markdown",
      "metadata": {
        "id": "j0-H8dGLeSAi"
      },
      "source": [
        "# SELECT total_bill, tip, smoker, time, \n",
        "# FROM tips\n",
        "# LIMIT 5;"
      ]
    },
    {
      "cell_type": "code",
      "metadata": {
        "id": "WVMEmWbheTSU"
      },
      "source": [
        "## Mesmo comando em Python\n",
        "\n",
        "tips[['total_bill', 'tip','smoker','time']].head(5)"
      ],
      "execution_count": null,
      "outputs": []
    },
    {
      "cell_type": "markdown",
      "metadata": {
        "id": "H4n0SjcDflhn"
      },
      "source": [
        "## 2º Comando: WHERE"
      ]
    },
    {
      "cell_type": "markdown",
      "metadata": {
        "id": "CwPkkcKvfvWe"
      },
      "source": [
        "SELECT * \n",
        "FROM tips\n",
        "WHERE time = 'Dinner'\n",
        "LIMIT 5;\n"
      ]
    },
    {
      "cell_type": "code",
      "metadata": {
        "id": "4-ntX8fTgDtl"
      },
      "source": [
        "tips[tips['time']== 'Dinner'].head(5)"
      ],
      "execution_count": null,
      "outputs": []
    },
    {
      "cell_type": "markdown",
      "metadata": {
        "id": "-D2UTdxgghK1"
      },
      "source": [
        "## 3º Comand: AND E OR"
      ]
    },
    {
      "cell_type": "code",
      "metadata": {
        "id": "NDmJQJefgSLt"
      },
      "source": [
        "SELECT * \n",
        "FROM tips\n",
        "WHERE time = 'Dinner' AND tip > 5.00;"
      ],
      "execution_count": null,
      "outputs": []
    },
    {
      "cell_type": "code",
      "metadata": {
        "id": "EKeP5NTZhO5p"
      },
      "source": [
        "# Em Python\n",
        "\n",
        "tips[(tips['time']== 'Dinner') & (tips['tip'] > 5.00)]"
      ],
      "execution_count": null,
      "outputs": []
    },
    {
      "cell_type": "markdown",
      "metadata": {
        "id": "cF_luwHYh5k4"
      },
      "source": [
        "## 4º Comando Valor MISSING nos campos"
      ]
    },
    {
      "cell_type": "code",
      "metadata": {
        "id": "nlblSFVBhjZv"
      },
      "source": [
        "# Criando um dataframe com valores MISSINGS\n",
        "frame = pd.DataFrame({'col1':['A','B', np.NaN,'C','D'],\n",
        "                      'col2':['F',np.NaN, 'G','H', 'I']})"
      ],
      "execution_count": null,
      "outputs": []
    },
    {
      "cell_type": "code",
      "metadata": {
        "id": "_wvnOSHuj1_V"
      },
      "source": [
        "#Valores Missing\n",
        "frame[frame['col2'].isna()]"
      ],
      "execution_count": null,
      "outputs": []
    },
    {
      "cell_type": "markdown",
      "metadata": {
        "id": "gzFA1CDOjsZf"
      },
      "source": [
        "SELECT *\n",
        "FROM frame\n",
        "WHERE col2 IS NULL;"
      ]
    },
    {
      "cell_type": "code",
      "metadata": {
        "id": "WnNWN0WGkJPd"
      },
      "source": [
        "# Valores não Missing\n",
        "frame[frame['col1'].notna()]"
      ],
      "execution_count": null,
      "outputs": []
    },
    {
      "cell_type": "code",
      "metadata": {
        "id": "Sql6-C0Yi47p"
      },
      "source": [
        "# Imagem \n",
        "from PIL import Image\n",
        "%matplotlib inline\n",
        "im = Imagem.open(\"MISSING.PNE\")\n",
        "im.show()\n"
      ],
      "execution_count": null,
      "outputs": []
    },
    {
      "cell_type": "markdown",
      "metadata": {
        "id": "NCBn4AWHkoV1"
      },
      "source": [
        "## Group by\n",
        "SELECT sex, count(*)\n",
        "FROM tips\n",
        "GROUP BY sex;\n",
        "\n",
        "/*\n",
        "Female   87\n",
        "Male    157\n",
        "*/"
      ]
    },
    {
      "cell_type": "code",
      "metadata": {
        "id": "uh-H_KV3lGYp"
      },
      "source": [
        "# Comando no PYTHON\n",
        "tips.groupby('sex').size()"
      ],
      "execution_count": null,
      "outputs": []
    },
    {
      "cell_type": "code",
      "metadata": {
        "id": "ECKhSXHLlTAS"
      },
      "source": [
        "tips.groupby('sex').count()"
      ],
      "execution_count": null,
      "outputs": []
    },
    {
      "cell_type": "code",
      "metadata": {
        "id": "FRoJeq--l4Vf"
      },
      "source": [
        "tips.groupby('sex')['total_bill'].count()"
      ],
      "execution_count": null,
      "outputs": []
    },
    {
      "cell_type": "markdown",
      "metadata": {
        "id": "hQ56SvCBmK4E"
      },
      "source": [
        "## Comando : Join"
      ]
    },
    {
      "cell_type": "code",
      "metadata": {
        "id": "fr3E2V2bmJIV"
      },
      "source": [
        "# Imagem\n",
        "from PIL import Image\n",
        "%matplotlib inline\n",
        "im = Image.open(\"JOIN.JPG\")\n",
        "im.show()\n",
        "im"
      ],
      "execution_count": null,
      "outputs": []
    },
    {
      "cell_type": "markdown",
      "metadata": {
        "id": "xo4fmwmVmvfI"
      },
      "source": [
        "SELECT * \n",
        "FROM df1\n",
        "INNER JOIN df2\n",
        "ON df1.key=df2.key;"
      ]
    },
    {
      "cell_type": "code",
      "metadata": {
        "id": "F4UKOMHumoT6"
      },
      "source": [
        "# Tabela 1\n",
        "df1 = pd.DataFrame({'Nome': ['Marlos', 'Bruno', 'Kiwi', 'Hott'],\n",
        "                    'Gorjeta': np.random.randn(4)})"
      ],
      "execution_count": null,
      "outputs": []
    },
    {
      "cell_type": "code",
      "metadata": {
        "id": "f-qGhDW1ntBg"
      },
      "source": [
        "df1"
      ],
      "execution_count": null,
      "outputs": []
    },
    {
      "cell_type": "code",
      "metadata": {
        "id": "7GG0q4E1nu6n"
      },
      "source": [
        "# Tabela 2\n",
        "df2 = pd.DataFrame({'Nome': ['Marlos','Bruno','Kiwi','Hott'],\n",
        "                    'Carro': ['Siena','Corola','Civic','Gurgel']})"
      ],
      "execution_count": null,
      "outputs": []
    },
    {
      "cell_type": "code",
      "metadata": {
        "id": "_5-VtSy3oWLm"
      },
      "source": [
        "df2"
      ],
      "execution_count": null,
      "outputs": []
    },
    {
      "cell_type": "code",
      "metadata": {
        "id": "TJnnUGUhoXwt"
      },
      "source": [
        "# Comando no PYTHON\n",
        "pd.merge(df1,df2, on='Nome')"
      ],
      "execution_count": null,
      "outputs": []
    },
    {
      "cell_type": "code",
      "metadata": {
        "id": "shdUVFjIo3Hk"
      },
      "source": [
        ""
      ],
      "execution_count": null,
      "outputs": []
    }
  ]
}