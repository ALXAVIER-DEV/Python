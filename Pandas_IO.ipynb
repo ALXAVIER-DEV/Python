{
  "nbformat": 4,
  "nbformat_minor": 0,
  "metadata": {
    "colab": {
      "name": "Pandas IO.ipynb",
      "provenance": [],
      "private_outputs": true,
      "collapsed_sections": [
        "blu47ISbEbxy",
        "u4Q1UAuaEii3"
      ],
      "authorship_tag": "ABX9TyPnd++8+hTG0wlwJvHBg1M3",
      "include_colab_link": true
    },
    "kernelspec": {
      "name": "python3",
      "display_name": "Python 3"
    }
  },
  "cells": [
    {
      "cell_type": "markdown",
      "metadata": {
        "id": "view-in-github",
        "colab_type": "text"
      },
      "source": [
        "<a href=\"https://colab.research.google.com/github/ALXAVIER-DEV/Python/blob/master/Pandas_IO.ipynb\" target=\"_parent\"><img src=\"https://colab.research.google.com/assets/colab-badge.svg\" alt=\"Open In Colab\"/></a>"
      ]
    },
    {
      "cell_type": "markdown",
      "metadata": {
        "id": "blu47ISbEbxy",
        "colab_type": "text"
      },
      "source": [
        "# Criando os nomes"
      ]
    },
    {
      "cell_type": "code",
      "metadata": {
        "id": "bS8P6n9k2IdP",
        "colab_type": "code",
        "colab": {}
      },
      "source": [
        "\n",
        "import pandas as pd"
      ],
      "execution_count": null,
      "outputs": []
    },
    {
      "cell_type": "markdown",
      "metadata": {
        "id": "9NrsSJzcEaAh",
        "colab_type": "text"
      },
      "source": [
        ""
      ]
    },
    {
      "cell_type": "code",
      "metadata": {
        "id": "C2mAmYOn3GaG",
        "colab_type": "code",
        "colab": {}
      },
      "source": [
        "Nomes_f =pd.read_json(\"https://servicodados.ibge.gov.br/api/v1/censos/nomes/ranking?qtd=200&sexo=f\")"
      ],
      "execution_count": null,
      "outputs": []
    },
    {
      "cell_type": "code",
      "metadata": {
        "id": "lr2HD4kI3NOW",
        "colab_type": "code",
        "colab": {}
      },
      "source": [
        "Nomes_m =pd.read_json(\"https://servicodados.ibge.gov.br/api/v1/censos/nomes/ranking?qtd=200&sexo=m\")"
      ],
      "execution_count": null,
      "outputs": []
    },
    {
      "cell_type": "code",
      "metadata": {
        "id": "dqO7rGPh30RA",
        "colab_type": "code",
        "colab": {}
      },
      "source": [
        "print(\"Quantidade de Nomes : \" +  str(len(Nomes_f )+ len(Nomes_m)))"
      ],
      "execution_count": null,
      "outputs": []
    },
    {
      "cell_type": "code",
      "metadata": {
        "id": "CkySxKSG4Xor",
        "colab_type": "code",
        "colab": {}
      },
      "source": [
        "frames = [Nomes_f,Nomes_m]"
      ],
      "execution_count": null,
      "outputs": []
    },
    {
      "cell_type": "code",
      "metadata": {
        "id": "VzrYMrM24iip",
        "colab_type": "code",
        "colab": {}
      },
      "source": [
        "nomes = pd.concat(frames)['nome'].to_frame ()"
      ],
      "execution_count": null,
      "outputs": []
    },
    {
      "cell_type": "code",
      "metadata": {
        "id": "9HxQaqdq41mf",
        "colab_type": "code",
        "colab": {}
      },
      "source": [
        "nomes.sample(5)"
      ],
      "execution_count": null,
      "outputs": []
    },
    {
      "cell_type": "markdown",
      "metadata": {
        "id": "u4Q1UAuaEii3",
        "colab_type": "text"
      },
      "source": [
        "# Incluindo ID dos alunos"
      ]
    },
    {
      "cell_type": "code",
      "metadata": {
        "id": "2fQOhJzX5Afl",
        "colab_type": "code",
        "colab": {}
      },
      "source": [
        "import numpy as np\n",
        "np.random.seed(123)"
      ],
      "execution_count": null,
      "outputs": []
    },
    {
      "cell_type": "code",
      "metadata": {
        "id": "-1ySpwrQ6KwL",
        "colab_type": "code",
        "colab": {}
      },
      "source": [
        "total_alunos = len(nomes)\n",
        "total_alunos"
      ],
      "execution_count": null,
      "outputs": []
    },
    {
      "cell_type": "code",
      "metadata": {
        "id": "ZGGfCP2qFAkN",
        "colab_type": "code",
        "colab": {}
      },
      "source": [
        "nomes[\"id_aluno\"] = np.random.permutation(total_alunos) +1"
      ],
      "execution_count": null,
      "outputs": []
    },
    {
      "cell_type": "code",
      "metadata": {
        "id": "NG3teWz0FQeh",
        "colab_type": "code",
        "colab": {}
      },
      "source": [
        "nomes.sample(5)"
      ],
      "execution_count": null,
      "outputs": []
    },
    {
      "cell_type": "code",
      "metadata": {
        "id": "wvsOO28BFT9q",
        "colab_type": "code",
        "colab": {}
      },
      "source": [
        "dominios = ['@dominiodoemail.com.br' , '@servicodoemail.com']\n",
        "nomes['dominio'] = np.random.choice(dominios, total_alunos)"
      ],
      "execution_count": null,
      "outputs": []
    },
    {
      "cell_type": "code",
      "metadata": {
        "id": "-tqDkKABGLQs",
        "colab_type": "code",
        "colab": {}
      },
      "source": [
        "nomes['email'] = nomes.nome.str.cat(nomes.dominio).str.lower()"
      ],
      "execution_count": null,
      "outputs": []
    },
    {
      "cell_type": "code",
      "metadata": {
        "id": "M_ObuFYeGtfU",
        "colab_type": "code",
        "colab": {}
      },
      "source": [
        "nomes.sample(5)"
      ],
      "execution_count": null,
      "outputs": []
    },
    {
      "cell_type": "markdown",
      "metadata": {
        "id": "y6waL5FzI_N0",
        "colab_type": "text"
      },
      "source": [
        "# Criando a tabela Cursos"
      ]
    },
    {
      "cell_type": "code",
      "metadata": {
        "id": "jEvW-70xGx6n",
        "colab_type": "code",
        "colab": {}
      },
      "source": [
        "!pip3 install html5lib\n",
        "!pip3 install lxml"
      ],
      "execution_count": null,
      "outputs": []
    },
    {
      "cell_type": "code",
      "metadata": {
        "id": "h8lv-TvYJtQe",
        "colab_type": "code",
        "colab": {}
      },
      "source": [
        "import html5lib\n",
        "url = 'http://tabela-cursos.herokuapp.com/index.html'\n",
        "cursos = pd.read_html(url)"
      ],
      "execution_count": null,
      "outputs": []
    },
    {
      "cell_type": "code",
      "metadata": {
        "id": "K__v4kCWJ6eq",
        "colab_type": "code",
        "colab": {}
      },
      "source": [
        "type(cursos)"
      ],
      "execution_count": null,
      "outputs": []
    },
    {
      "cell_type": "code",
      "metadata": {
        "id": "0gtEsXcHKOHy",
        "colab_type": "code",
        "colab": {}
      },
      "source": [
        "cursos.head(3)\n"
      ],
      "execution_count": null,
      "outputs": []
    },
    {
      "cell_type": "code",
      "metadata": {
        "id": "qm0GT4E0KWtH",
        "colab_type": "code",
        "colab": {}
      },
      "source": [
        "cursos.head(5)"
      ],
      "execution_count": null,
      "outputs": []
    },
    {
      "cell_type": "markdown",
      "metadata": {
        "id": "WMiN4qz7LYHJ",
        "colab_type": "text"
      },
      "source": [
        "# Alterando o Index de cursos\n"
      ]
    },
    {
      "cell_type": "code",
      "metadata": {
        "id": "2GFdD5QHKbie",
        "colab_type": "code",
        "colab": {}
      },
      "source": [
        "cursos = cursos.rename(columns={'Nome do curso':'Nome_do_curso'})\n"
      ],
      "execution_count": null,
      "outputs": []
    },
    {
      "cell_type": "markdown",
      "metadata": {
        "id": "n5G-xBMfLRzi",
        "colab_type": "text"
      },
      "source": [
        ""
      ]
    },
    {
      "cell_type": "code",
      "metadata": {
        "id": "pm4IXAtXL2ZT",
        "colab_type": "code",
        "colab": {}
      },
      "source": [
        "cursos.head(2)"
      ],
      "execution_count": null,
      "outputs": []
    },
    {
      "cell_type": "code",
      "metadata": {
        "id": "3Bx7lIu5L8kY",
        "colab_type": "code",
        "colab": {}
      },
      "source": [
        "cursos['id'] = cursos.index + 1"
      ],
      "execution_count": null,
      "outputs": []
    },
    {
      "cell_type": "code",
      "metadata": {
        "id": "EpKG_ttdNmPp",
        "colab_type": "code",
        "colab": {}
      },
      "source": [
        "cursos.head(10)"
      ],
      "execution_count": null,
      "outputs": []
    },
    {
      "cell_type": "code",
      "metadata": {
        "id": "0g_Y6tHJNr3I",
        "colab_type": "code",
        "colab": {}
      },
      "source": [
        "cursos = cursos.set_index('id')"
      ],
      "execution_count": null,
      "outputs": []
    },
    {
      "cell_type": "code",
      "metadata": {
        "id": "N9SGZmfOPLc8",
        "colab_type": "code",
        "colab": {}
      },
      "source": [
        "cursos.head(5)"
      ],
      "execution_count": null,
      "outputs": []
    },
    {
      "cell_type": "code",
      "metadata": {
        "id": "T6q6d62VPP3j",
        "colab_type": "code",
        "colab": {}
      },
      "source": [
        ""
      ],
      "execution_count": null,
      "outputs": []
    }
  ]
}